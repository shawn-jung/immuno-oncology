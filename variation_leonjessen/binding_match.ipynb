{
 "nbformat": 4,
 "nbformat_minor": 2,
 "metadata": {
  "language_info": {
   "name": "python",
   "codemirror_mode": {
    "name": "ipython",
    "version": 3
   },
   "version": "3.6.9"
  },
  "orig_nbformat": 2,
  "file_extension": ".py",
  "mimetype": "text/x-python",
  "name": "python",
  "npconvert_exporter": "python",
  "pygments_lexer": "ipython3",
  "version": 3
 },
 "cells": [
  {
   "cell_type": "markdown",
   "execution_count": null,
   "metadata": {},
   "outputs": [],
   "source": [
    "# Immuno-oncology \n",
    "## Python porting of Leon Jessen's example in R \n",
    "### Team - Shawn Jung, Ian Chu, An Nguyen\n",
    "The code below are ported version of the immuno-oncology Deep Learning training sample written in R. The training dataset and test dataset were saved in R Studio with the original R code. \n",
    "https://github.com/leonjessen/tensorflow_rstudio_example "
   ]
  },
  {
   "cell_type": "code",
   "execution_count": 23,
   "metadata": {},
   "outputs": [],
   "source": [
    "import pandas as pd \n",
    "from tensorflow.keras.models import Sequential \n",
    "from tensorflow.keras.layers import Dense \n",
    "from tensorflow.keras.layers import Dropout\n",
    "#from tensorflow.keras.wrappers.scikit_learn import KerasClassifier"
   ]
  },
  {
   "cell_type": "code",
   "execution_count": 18,
   "metadata": {},
   "outputs": [],
   "source": [
    "Xtrain = pd.read_csv(\"./variation_leonjessen/data/xtrain.csv\", delimiter=\",\", header=None)\n",
    "Xtest = pd.read_csv(\"./variation_leonjessen/data/xtest.csv\", delimiter=\",\", header=None)\n",
    "Ytrain = pd.read_csv(\"./variation_leonjessen/data/ytrain.csv\", delimiter=\",\", header=None)\n",
    "Ytest = pd.read_csv(\"./variation_leonjessen/data/ytest.csv\", delimiter=\",\", header=None)\n"
   ]
  },
  {
   "cell_type": "code",
   "execution_count": 19,
   "metadata": {},
   "outputs": [],
   "source": [
    "Xtrain = Xtrain.to_numpy()\n",
    "Xtest = Xtest.to_numpy()\n",
    "Ytrain = Ytrain.to_numpy()\n",
    "Ytest = Ytest.to_numpy()"
   ]
  },
  {
   "cell_type": "code",
   "execution_count": 25,
   "metadata": {},
   "outputs": [],
   "source": [
    "\n",
    "def baseline_model():\n",
    "    model = Sequential()\n",
    "    model.add(Dense(180, input_dim=180, activation='relu'))\n",
    "    model.add(Dropout(0.4))\n",
    "    model.add(Dense(90, activation='relu'))\n",
    "    model.add(Dropout(0.3))\n",
    "    model.add(Dense(3, activation='softmax'))\n",
    "    #compile model\n",
    "    model.compile(loss='categorical_crossentropy', optimizer='rmsprop', metrics=['accuracy'])\n",
    "    return model "
   ]
  },
  {
   "cell_type": "code",
   "execution_count": 27,
   "metadata": {},
   "outputs": [],
   "source": [
    "base_training = baseline_model()"
   ]
  },
  {
   "cell_type": "code",
   "execution_count": 40,
   "metadata": {},
   "outputs": [
    {
     "data": {
      "text/plain": "<tensorflow.python.keras.callbacks.History at 0x232947e5c18>"
     },
     "execution_count": 40,
     "metadata": {},
     "output_type": "execute_result"
    }
   ],
   "source": [
    "base_training.fit(Xtrain, Ytrain, validation_split=0.2, epochs=150, batch_size=50, verbose=0)\n"
   ]
  },
  {
   "cell_type": "code",
   "execution_count": 45,
   "metadata": {},
   "outputs": [
    {
     "name": "stdout",
     "output_type": "stream",
     "text": "2376/1 - 0s - loss: 1.1992 - accuracy: 0.9495\nAccurancy: 94.95%\n"
    }
   ],
   "source": [
    "scores = base_training.evaluate(Xtest, Ytest, verbose=2)\n",
    "print(\"Accurancy: %.2f%%\" % (scores[1]*100))"
   ]
  },
  {
   "cell_type": "code",
   "execution_count": null,
   "metadata": {},
   "outputs": [],
   "source": []
  },
  {
   "cell_type": "code",
   "execution_count": null,
   "metadata": {},
   "outputs": [],
   "source": []
  }
 ]
}